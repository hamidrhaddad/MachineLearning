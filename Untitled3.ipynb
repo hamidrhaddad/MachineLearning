{
  "nbformat": 4,
  "nbformat_minor": 0,
  "metadata": {
    "colab": {
      "provenance": []
    },
    "kernelspec": {
      "name": "python3",
      "display_name": "Python 3"
    },
    "language_info": {
      "name": "python"
    }
  },
  "cells": [
    {
      "cell_type": "code",
      "execution_count": 120,
      "metadata": {
        "id": "CG03t5d8dGtE"
      },
      "outputs": [],
      "source": [
        "import requests"
      ]
    },
    {
      "cell_type": "code",
      "source": [
        "from bs4 import BeautifulSoup"
      ],
      "metadata": {
        "id": "-e4D1OmIKcjY"
      },
      "execution_count": 121,
      "outputs": []
    },
    {
      "cell_type": "code",
      "source": [
        "site_url = \"https://liliome.ir/brand/perfume/dior/\""
      ],
      "metadata": {
        "id": "zFbMCsva4EHm"
      },
      "execution_count": 122,
      "outputs": []
    },
    {
      "cell_type": "code",
      "source": [
        "site = requests.get(site_url)"
      ],
      "metadata": {
        "id": "LnzJ3uQc4RTL"
      },
      "execution_count": 123,
      "outputs": []
    },
    {
      "cell_type": "code",
      "source": [
        "site"
      ],
      "metadata": {
        "colab": {
          "base_uri": "https://localhost:8080/"
        },
        "id": "NO15tkA84bym",
        "outputId": "b3e1dd4a-48f9-4011-8c82-ca45db1e53db"
      },
      "execution_count": 124,
      "outputs": [
        {
          "output_type": "execute_result",
          "data": {
            "text/plain": [
              "<Response [200]>"
            ]
          },
          "metadata": {},
          "execution_count": 124
        }
      ]
    },
    {
      "cell_type": "code",
      "source": [
        "soup = BeautifulSoup(site.text, 'html.parser')"
      ],
      "metadata": {
        "id": "R9jJ8e7t6XeL"
      },
      "execution_count": 125,
      "outputs": []
    },
    {
      "cell_type": "code",
      "source": [
        "div1 = soup.find('div', {'class':'products row row-small large-columns-5 medium-columns-4 small-columns-2 has-shadow row-box-shadow-1 row-box-shadow-3-hover has-equal-box-heights equalize-box'})"
      ],
      "metadata": {
        "id": "ZH6zHeAM6hme"
      },
      "execution_count": 126,
      "outputs": []
    },
    {
      "cell_type": "code",
      "source": [
        "title = div1.find_all('p', {'class':'name product-title woocommerce-loop-product__title'})"
      ],
      "metadata": {
        "id": "94Db4BKX6iqC"
      },
      "execution_count": 127,
      "outputs": []
    },
    {
      "cell_type": "code",
      "source": [
        "title[0].text"
      ],
      "metadata": {
        "colab": {
          "base_uri": "https://localhost:8080/",
          "height": 35
        },
        "id": "lTooqm--7qFn",
        "outputId": "d069ee35-173c-4832-901c-c8b7114f5c9f"
      },
      "execution_count": 128,
      "outputs": [
        {
          "output_type": "execute_result",
          "data": {
            "text/plain": [
              "'عطر ادکلن دیور فارنهایت | Dior Fahrenheit'"
            ],
            "application/vnd.google.colaboratory.intrinsic+json": {
              "type": "string"
            }
          },
          "metadata": {},
          "execution_count": 128
        }
      ]
    },
    {
      "cell_type": "code",
      "source": [
        "rate = div1.find_all('div', {'class':'star-rating star-rating--inline'})"
      ],
      "metadata": {
        "id": "_9Q7XfeGAJ0j"
      },
      "execution_count": 129,
      "outputs": []
    },
    {
      "cell_type": "code",
      "source": [
        "rate[0].text.replace('امتياز','')"
      ],
      "metadata": {
        "colab": {
          "base_uri": "https://localhost:8080/",
          "height": 35
        },
        "id": "5bcFYX4BBZb1",
        "outputId": "912f2790-cf17-43eb-a2ed-69dbe52bce65"
      },
      "execution_count": 130,
      "outputs": [
        {
          "output_type": "execute_result",
          "data": {
            "text/plain": [
              "'امتیاز 4.67 از 5'"
            ],
            "application/vnd.google.colaboratory.intrinsic+json": {
              "type": "string"
            }
          },
          "metadata": {},
          "execution_count": 130
        }
      ]
    },
    {
      "cell_type": "code",
      "source": [
        "price = div1.find_all('span', {'class':'woocommerce-Price-amount amount'})"
      ],
      "metadata": {
        "id": "M-nakoEfBaQh"
      },
      "execution_count": 131,
      "outputs": []
    },
    {
      "cell_type": "code",
      "source": [
        "price[0].text"
      ],
      "metadata": {
        "colab": {
          "base_uri": "https://localhost:8080/",
          "height": 35
        },
        "id": "59kvzGEMCXLx",
        "outputId": "77d422fc-71f0-4bab-8382-e6039212ddcf"
      },
      "execution_count": 132,
      "outputs": [
        {
          "output_type": "execute_result",
          "data": {
            "text/plain": [
              "'5,740,000تومان'"
            ],
            "application/vnd.google.colaboratory.intrinsic+json": {
              "type": "string"
            }
          },
          "metadata": {},
          "execution_count": 132
        }
      ]
    },
    {
      "cell_type": "code",
      "source": [
        "finaltitle = []\n",
        "finalrate=[]\n",
        "finalprice=[]"
      ],
      "metadata": {
        "id": "CJwGe0xdCZSu"
      },
      "execution_count": 141,
      "outputs": []
    },
    {
      "cell_type": "code",
      "source": [
        "for item in range(len(title)):\n",
        "  tt = title[item].text\n",
        "  finaltitle.append(tt)"
      ],
      "metadata": {
        "id": "hupfVzKgDW66"
      },
      "execution_count": 142,
      "outputs": []
    },
    {
      "cell_type": "code",
      "source": [
        "for item in range(len(rate)):\n",
        "  tt = rate[item].text.split('از')[1]\n",
        "  finalrate.append(tt)"
      ],
      "metadata": {
        "id": "hcIhWf73FDrY"
      },
      "execution_count": 143,
      "outputs": []
    },
    {
      "cell_type": "code",
      "source": [
        "for item in range(0,len(price),2):\n",
        "  tt = price[item].text.replace(',','').replace('تومان','')\n",
        "  finalprice.append(tt)"
      ],
      "metadata": {
        "id": "Z00W7LVsIbdI"
      },
      "execution_count": 144,
      "outputs": []
    },
    {
      "cell_type": "code",
      "source": [
        "len(finalprice)"
      ],
      "metadata": {
        "colab": {
          "base_uri": "https://localhost:8080/"
        },
        "id": "ln9qGINlHYy9",
        "outputId": "c70e3c95-88b2-437c-e0de-a01c1bf495f7"
      },
      "execution_count": 145,
      "outputs": [
        {
          "output_type": "execute_result",
          "data": {
            "text/plain": [
              "20"
            ]
          },
          "metadata": {},
          "execution_count": 145
        }
      ]
    },
    {
      "cell_type": "code",
      "source": [
        "myDict = {\n",
        "\n",
        "          'title': finaltitle,\n",
        "          'rating': finalrate,\n",
        "          'price': finalprice\n",
        "\n",
        "\n",
        "}"
      ],
      "metadata": {
        "id": "BijtrQ8MHuuW"
      },
      "execution_count": 146,
      "outputs": []
    },
    {
      "cell_type": "code",
      "source": [
        "import pandas as pd"
      ],
      "metadata": {
        "id": "sW26AILaLS0S"
      },
      "execution_count": 147,
      "outputs": []
    },
    {
      "cell_type": "code",
      "source": [
        "data = pd.DataFrame(myDict)"
      ],
      "metadata": {
        "id": "lzaxJWkTLUlD"
      },
      "execution_count": 148,
      "outputs": []
    },
    {
      "cell_type": "code",
      "source": [
        "data"
      ],
      "metadata": {
        "colab": {
          "base_uri": "https://localhost:8080/",
          "height": 677
        },
        "id": "NvBFFmhaLdbx",
        "outputId": "6f25b8e4-9378-4af3-9269-ef2b7b90cfaa"
      },
      "execution_count": 149,
      "outputs": [
        {
          "output_type": "execute_result",
          "data": {
            "text/plain": [
              "                                                title  rating     price\n",
              "0           عطر ادکلن دیور فارنهایت | Dior Fahrenheit   4.67    5740000\n",
              "1      عطر ادکلن دیور ساواج-ساوج-ساواژ | Dior Sauvage   5.00    8200000\n",
              "2   عطر ادکلن دیور ساواج ادو پرفیوم | Dior Sauvage...   4.67    8610000\n",
              "3      عطر ادکلن دیور هوم اینتنس | Dior Homme Intense   3.17    6930000\n",
              "4   عطر ادکلن دیور ساواج (ساوج) الکسیر | Dior Sauv...   5.00    9430000\n",
              "5   عطر ادکلن دیور ساواج پارفوم | Dior Sauvage Parfum   5.00    9305000\n",
              "6              عطر ادکلن دیور ادیکت | Dior Addict EDP   5.00   11500000\n",
              "7   عطر ادکلن دیور هوم اینتنس | Dior Homme Intense...   5.00   10620000\n",
              "8    عطر ادکلن جادور-دیور جادور(ژادور) | Dior J’adore   5.00    9430000\n",
              "9   عطر ادکلن دیور ساواج-ساوج-ساواژ | Dior Sauvage...   4.00   10660000\n",
              "10  عطر ادکلن دیور ساواج ادو پرفیوم | Dior Sauvage...   5.00   11480000\n",
              "11       عطر ادکلن دیور پیور پویزن | Dior Pure Poison   5.00   10660000\n",
              "12  عطر ادکلن میس دیور ادو پرفیوم | Dior Miss Dior...   5.00    9020000\n",
              "13  عطر ادکلن دیور هیپنوتیک پویزن ادو پرفیوم | Dio...   5.00    9020000\n",
              "14      عطر ادکلن دیور هوم پارفوم | Dior Homme Parfum   5.00   10045000\n",
              "15  عطر ادکلن دیور میس دیور ابسولوتلی بلومینگ | Di...   5.00    9430000\n",
              "16   عطر ادکلن دیور فارنهایت | Dior Fahrenheit 200 ml   5.00   11480000\n",
              "17     عطر ادکلن دیور جوی بای دیور | Dior Joy by Dior   5.00    7175000\n",
              "18  عطر ادکلن دیور ساواج پارفوم | Dior Sauvage Par...   5.00   14350000\n",
              "19  عطر ادکلن میس دیور بلومینگ بوکه-صورتی | Miss D...   5.00    8160000"
            ],
            "text/html": [
              "\n",
              "  <div id=\"df-f74e897f-d5dd-4992-af54-962a7ff95bfc\">\n",
              "    <div class=\"colab-df-container\">\n",
              "      <div>\n",
              "<style scoped>\n",
              "    .dataframe tbody tr th:only-of-type {\n",
              "        vertical-align: middle;\n",
              "    }\n",
              "\n",
              "    .dataframe tbody tr th {\n",
              "        vertical-align: top;\n",
              "    }\n",
              "\n",
              "    .dataframe thead th {\n",
              "        text-align: right;\n",
              "    }\n",
              "</style>\n",
              "<table border=\"1\" class=\"dataframe\">\n",
              "  <thead>\n",
              "    <tr style=\"text-align: right;\">\n",
              "      <th></th>\n",
              "      <th>title</th>\n",
              "      <th>rating</th>\n",
              "      <th>price</th>\n",
              "    </tr>\n",
              "  </thead>\n",
              "  <tbody>\n",
              "    <tr>\n",
              "      <th>0</th>\n",
              "      <td>عطر ادکلن دیور فارنهایت | Dior Fahrenheit</td>\n",
              "      <td>4.67</td>\n",
              "      <td>5740000</td>\n",
              "    </tr>\n",
              "    <tr>\n",
              "      <th>1</th>\n",
              "      <td>عطر ادکلن دیور ساواج-ساوج-ساواژ | Dior Sauvage</td>\n",
              "      <td>5.00</td>\n",
              "      <td>8200000</td>\n",
              "    </tr>\n",
              "    <tr>\n",
              "      <th>2</th>\n",
              "      <td>عطر ادکلن دیور ساواج ادو پرفیوم | Dior Sauvage...</td>\n",
              "      <td>4.67</td>\n",
              "      <td>8610000</td>\n",
              "    </tr>\n",
              "    <tr>\n",
              "      <th>3</th>\n",
              "      <td>عطر ادکلن دیور هوم اینتنس | Dior Homme Intense</td>\n",
              "      <td>3.17</td>\n",
              "      <td>6930000</td>\n",
              "    </tr>\n",
              "    <tr>\n",
              "      <th>4</th>\n",
              "      <td>عطر ادکلن دیور ساواج (ساوج) الکسیر | Dior Sauv...</td>\n",
              "      <td>5.00</td>\n",
              "      <td>9430000</td>\n",
              "    </tr>\n",
              "    <tr>\n",
              "      <th>5</th>\n",
              "      <td>عطر ادکلن دیور ساواج پارفوم | Dior Sauvage Parfum</td>\n",
              "      <td>5.00</td>\n",
              "      <td>9305000</td>\n",
              "    </tr>\n",
              "    <tr>\n",
              "      <th>6</th>\n",
              "      <td>عطر ادکلن دیور ادیکت | Dior Addict EDP</td>\n",
              "      <td>5.00</td>\n",
              "      <td>11500000</td>\n",
              "    </tr>\n",
              "    <tr>\n",
              "      <th>7</th>\n",
              "      <td>عطر ادکلن دیور هوم اینتنس | Dior Homme Intense...</td>\n",
              "      <td>5.00</td>\n",
              "      <td>10620000</td>\n",
              "    </tr>\n",
              "    <tr>\n",
              "      <th>8</th>\n",
              "      <td>عطر ادکلن جادور-دیور جادور(ژادور) | Dior J’adore</td>\n",
              "      <td>5.00</td>\n",
              "      <td>9430000</td>\n",
              "    </tr>\n",
              "    <tr>\n",
              "      <th>9</th>\n",
              "      <td>عطر ادکلن دیور ساواج-ساوج-ساواژ | Dior Sauvage...</td>\n",
              "      <td>4.00</td>\n",
              "      <td>10660000</td>\n",
              "    </tr>\n",
              "    <tr>\n",
              "      <th>10</th>\n",
              "      <td>عطر ادکلن دیور ساواج ادو پرفیوم | Dior Sauvage...</td>\n",
              "      <td>5.00</td>\n",
              "      <td>11480000</td>\n",
              "    </tr>\n",
              "    <tr>\n",
              "      <th>11</th>\n",
              "      <td>عطر ادکلن دیور پیور پویزن | Dior Pure Poison</td>\n",
              "      <td>5.00</td>\n",
              "      <td>10660000</td>\n",
              "    </tr>\n",
              "    <tr>\n",
              "      <th>12</th>\n",
              "      <td>عطر ادکلن میس دیور ادو پرفیوم | Dior Miss Dior...</td>\n",
              "      <td>5.00</td>\n",
              "      <td>9020000</td>\n",
              "    </tr>\n",
              "    <tr>\n",
              "      <th>13</th>\n",
              "      <td>عطر ادکلن دیور هیپنوتیک پویزن ادو پرفیوم | Dio...</td>\n",
              "      <td>5.00</td>\n",
              "      <td>9020000</td>\n",
              "    </tr>\n",
              "    <tr>\n",
              "      <th>14</th>\n",
              "      <td>عطر ادکلن دیور هوم پارفوم | Dior Homme Parfum</td>\n",
              "      <td>5.00</td>\n",
              "      <td>10045000</td>\n",
              "    </tr>\n",
              "    <tr>\n",
              "      <th>15</th>\n",
              "      <td>عطر ادکلن دیور میس دیور ابسولوتلی بلومینگ | Di...</td>\n",
              "      <td>5.00</td>\n",
              "      <td>9430000</td>\n",
              "    </tr>\n",
              "    <tr>\n",
              "      <th>16</th>\n",
              "      <td>عطر ادکلن دیور فارنهایت | Dior Fahrenheit 200 ml</td>\n",
              "      <td>5.00</td>\n",
              "      <td>11480000</td>\n",
              "    </tr>\n",
              "    <tr>\n",
              "      <th>17</th>\n",
              "      <td>عطر ادکلن دیور جوی بای دیور | Dior Joy by Dior</td>\n",
              "      <td>5.00</td>\n",
              "      <td>7175000</td>\n",
              "    </tr>\n",
              "    <tr>\n",
              "      <th>18</th>\n",
              "      <td>عطر ادکلن دیور ساواج پارفوم | Dior Sauvage Par...</td>\n",
              "      <td>5.00</td>\n",
              "      <td>14350000</td>\n",
              "    </tr>\n",
              "    <tr>\n",
              "      <th>19</th>\n",
              "      <td>عطر ادکلن میس دیور بلومینگ بوکه-صورتی | Miss D...</td>\n",
              "      <td>5.00</td>\n",
              "      <td>8160000</td>\n",
              "    </tr>\n",
              "  </tbody>\n",
              "</table>\n",
              "</div>\n",
              "      <button class=\"colab-df-convert\" onclick=\"convertToInteractive('df-f74e897f-d5dd-4992-af54-962a7ff95bfc')\"\n",
              "              title=\"Convert this dataframe to an interactive table.\"\n",
              "              style=\"display:none;\">\n",
              "        \n",
              "  <svg xmlns=\"http://www.w3.org/2000/svg\" height=\"24px\"viewBox=\"0 0 24 24\"\n",
              "       width=\"24px\">\n",
              "    <path d=\"M0 0h24v24H0V0z\" fill=\"none\"/>\n",
              "    <path d=\"M18.56 5.44l.94 2.06.94-2.06 2.06-.94-2.06-.94-.94-2.06-.94 2.06-2.06.94zm-11 1L8.5 8.5l.94-2.06 2.06-.94-2.06-.94L8.5 2.5l-.94 2.06-2.06.94zm10 10l.94 2.06.94-2.06 2.06-.94-2.06-.94-.94-2.06-.94 2.06-2.06.94z\"/><path d=\"M17.41 7.96l-1.37-1.37c-.4-.4-.92-.59-1.43-.59-.52 0-1.04.2-1.43.59L10.3 9.45l-7.72 7.72c-.78.78-.78 2.05 0 2.83L4 21.41c.39.39.9.59 1.41.59.51 0 1.02-.2 1.41-.59l7.78-7.78 2.81-2.81c.8-.78.8-2.07 0-2.86zM5.41 20L4 18.59l7.72-7.72 1.47 1.35L5.41 20z\"/>\n",
              "  </svg>\n",
              "      </button>\n",
              "      \n",
              "  <style>\n",
              "    .colab-df-container {\n",
              "      display:flex;\n",
              "      flex-wrap:wrap;\n",
              "      gap: 12px;\n",
              "    }\n",
              "\n",
              "    .colab-df-convert {\n",
              "      background-color: #E8F0FE;\n",
              "      border: none;\n",
              "      border-radius: 50%;\n",
              "      cursor: pointer;\n",
              "      display: none;\n",
              "      fill: #1967D2;\n",
              "      height: 32px;\n",
              "      padding: 0 0 0 0;\n",
              "      width: 32px;\n",
              "    }\n",
              "\n",
              "    .colab-df-convert:hover {\n",
              "      background-color: #E2EBFA;\n",
              "      box-shadow: 0px 1px 2px rgba(60, 64, 67, 0.3), 0px 1px 3px 1px rgba(60, 64, 67, 0.15);\n",
              "      fill: #174EA6;\n",
              "    }\n",
              "\n",
              "    [theme=dark] .colab-df-convert {\n",
              "      background-color: #3B4455;\n",
              "      fill: #D2E3FC;\n",
              "    }\n",
              "\n",
              "    [theme=dark] .colab-df-convert:hover {\n",
              "      background-color: #434B5C;\n",
              "      box-shadow: 0px 1px 3px 1px rgba(0, 0, 0, 0.15);\n",
              "      filter: drop-shadow(0px 1px 2px rgba(0, 0, 0, 0.3));\n",
              "      fill: #FFFFFF;\n",
              "    }\n",
              "  </style>\n",
              "\n",
              "      <script>\n",
              "        const buttonEl =\n",
              "          document.querySelector('#df-f74e897f-d5dd-4992-af54-962a7ff95bfc button.colab-df-convert');\n",
              "        buttonEl.style.display =\n",
              "          google.colab.kernel.accessAllowed ? 'block' : 'none';\n",
              "\n",
              "        async function convertToInteractive(key) {\n",
              "          const element = document.querySelector('#df-f74e897f-d5dd-4992-af54-962a7ff95bfc');\n",
              "          const dataTable =\n",
              "            await google.colab.kernel.invokeFunction('convertToInteractive',\n",
              "                                                     [key], {});\n",
              "          if (!dataTable) return;\n",
              "\n",
              "          const docLinkHtml = 'Like what you see? Visit the ' +\n",
              "            '<a target=\"_blank\" href=https://colab.research.google.com/notebooks/data_table.ipynb>data table notebook</a>'\n",
              "            + ' to learn more about interactive tables.';\n",
              "          element.innerHTML = '';\n",
              "          dataTable['output_type'] = 'display_data';\n",
              "          await google.colab.output.renderOutput(dataTable, element);\n",
              "          const docLink = document.createElement('div');\n",
              "          docLink.innerHTML = docLinkHtml;\n",
              "          element.appendChild(docLink);\n",
              "        }\n",
              "      </script>\n",
              "    </div>\n",
              "  </div>\n",
              "  "
            ]
          },
          "metadata": {},
          "execution_count": 149
        }
      ]
    },
    {
      "cell_type": "code",
      "source": [],
      "metadata": {
        "id": "--xvKPDoMTXO"
      },
      "execution_count": null,
      "outputs": []
    }
  ]
}